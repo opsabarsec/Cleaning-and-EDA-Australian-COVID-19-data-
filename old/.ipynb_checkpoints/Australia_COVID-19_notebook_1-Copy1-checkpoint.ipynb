{
 "cells": [
  {
   "cell_type": "markdown",
   "metadata": {},
   "source": [
    "# Données COVID-19 Australie: exploration et nettoyage\n",
    "\n",
    "Test évaluation pour le poste Inria / AP-HP - notebook 1"
   ]
  },
  {
   "cell_type": "markdown",
   "metadata": {},
   "source": [
    "## 1. Importation des données et des librairies python"
   ]
  },
  {
   "cell_type": "code",
   "execution_count": 1,
   "metadata": {},
   "outputs": [],
   "source": [
    "#! pip install pandas-dedupe"
   ]
  },
  {
   "cell_type": "code",
   "execution_count": 2,
   "metadata": {},
   "outputs": [],
   "source": [
    "import pandas as pd\n",
    "#import pandas_dedupe\n",
    "import recordlinkage\n",
    "import seaborn as sns\n",
    "from sqlalchemy import create_engine\n",
    "import numpy as np\n",
    "from sklearn import preprocessing\n",
    "import time\n",
    "import datetime\n",
    "import matplotlib.pyplot as plt"
   ]
  },
  {
   "cell_type": "code",
   "execution_count": 3,
   "metadata": {},
   "outputs": [],
   "source": [
    "engine = create_engine('sqlite:///data.db', echo=False)\n",
    "con = engine.connect()\n",
    "df_patient = pd.read_sql('select * from patient', con=con)#, parse_dates=['date_of_birth']) # dates are parsed into date and time format\n",
    "df_pcr = pd.read_sql('select * from test', con=con) \n",
    "con.close()"
   ]
  },
  {
   "cell_type": "markdown",
   "metadata": {},
   "source": [
    "### 1.1 Données des patients "
   ]
  },
  {
   "cell_type": "code",
   "execution_count": 4,
   "metadata": {},
   "outputs": [
    {
     "name": "stdout",
     "output_type": "stream",
     "text": [
      "size patients dataframe: (20000, 12)\n"
     ]
    },
    {
     "data": {
      "text/html": [
       "<div>\n",
       "<style scoped>\n",
       "    .dataframe tbody tr th:only-of-type {\n",
       "        vertical-align: middle;\n",
       "    }\n",
       "\n",
       "    .dataframe tbody tr th {\n",
       "        vertical-align: top;\n",
       "    }\n",
       "\n",
       "    .dataframe thead th {\n",
       "        text-align: right;\n",
       "    }\n",
       "</style>\n",
       "<table border=\"1\" class=\"dataframe\">\n",
       "  <thead>\n",
       "    <tr style=\"text-align: right;\">\n",
       "      <th></th>\n",
       "      <th>patient_id</th>\n",
       "      <th>given_name</th>\n",
       "      <th>surname</th>\n",
       "      <th>street_number</th>\n",
       "      <th>address_1</th>\n",
       "      <th>suburb</th>\n",
       "      <th>postcode</th>\n",
       "      <th>state</th>\n",
       "      <th>date_of_birth</th>\n",
       "      <th>age</th>\n",
       "      <th>phone_number</th>\n",
       "      <th>address_2</th>\n",
       "    </tr>\n",
       "  </thead>\n",
       "  <tbody>\n",
       "    <tr>\n",
       "      <th>0</th>\n",
       "      <td>221958</td>\n",
       "      <td>matisse</td>\n",
       "      <td>clarke</td>\n",
       "      <td>13.0</td>\n",
       "      <td>rene street</td>\n",
       "      <td>ellenbrook</td>\n",
       "      <td>2527</td>\n",
       "      <td>wa</td>\n",
       "      <td>19710708.0</td>\n",
       "      <td>32.0</td>\n",
       "      <td>08 86018809</td>\n",
       "      <td>westella</td>\n",
       "    </tr>\n",
       "    <tr>\n",
       "      <th>1</th>\n",
       "      <td>771155</td>\n",
       "      <td>joshua</td>\n",
       "      <td>elrick</td>\n",
       "      <td>23.0</td>\n",
       "      <td>andrea place</td>\n",
       "      <td>east preston</td>\n",
       "      <td>2074</td>\n",
       "      <td>nsw</td>\n",
       "      <td>19120921.0</td>\n",
       "      <td>34.0</td>\n",
       "      <td>02 97793152</td>\n",
       "      <td>foxdown</td>\n",
       "    </tr>\n",
       "    <tr>\n",
       "      <th>2</th>\n",
       "      <td>231932</td>\n",
       "      <td>alice</td>\n",
       "      <td>conboy</td>\n",
       "      <td>35.0</td>\n",
       "      <td>mountain circuit</td>\n",
       "      <td>prospect</td>\n",
       "      <td>2305</td>\n",
       "      <td>nsw</td>\n",
       "      <td>19810905.0</td>\n",
       "      <td>22.0</td>\n",
       "      <td>02 20403934</td>\n",
       "      <td>None</td>\n",
       "    </tr>\n",
       "    <tr>\n",
       "      <th>3</th>\n",
       "      <td>465838</td>\n",
       "      <td>sienna</td>\n",
       "      <td>craswell</td>\n",
       "      <td>39.0</td>\n",
       "      <td>cumberlegeicrescent</td>\n",
       "      <td>henty</td>\n",
       "      <td>3620</td>\n",
       "      <td>wa</td>\n",
       "      <td>19840809.0</td>\n",
       "      <td>30.0</td>\n",
       "      <td>02 62832318</td>\n",
       "      <td>jodane</td>\n",
       "    </tr>\n",
       "    <tr>\n",
       "      <th>4</th>\n",
       "      <td>359178</td>\n",
       "      <td>joshua</td>\n",
       "      <td>bastiaans</td>\n",
       "      <td>144.0</td>\n",
       "      <td>lowrie street</td>\n",
       "      <td>campbell town</td>\n",
       "      <td>4051</td>\n",
       "      <td>nsw</td>\n",
       "      <td>19340430.0</td>\n",
       "      <td>31.0</td>\n",
       "      <td>03 69359594</td>\n",
       "      <td>None</td>\n",
       "    </tr>\n",
       "  </tbody>\n",
       "</table>\n",
       "</div>"
      ],
      "text/plain": [
       "   patient_id given_name    surname  street_number            address_1  \\\n",
       "0      221958    matisse     clarke           13.0          rene street   \n",
       "1      771155     joshua     elrick           23.0         andrea place   \n",
       "2      231932      alice     conboy           35.0     mountain circuit   \n",
       "3      465838     sienna   craswell           39.0  cumberlegeicrescent   \n",
       "4      359178     joshua  bastiaans          144.0        lowrie street   \n",
       "\n",
       "          suburb postcode state  date_of_birth   age phone_number address_2  \n",
       "0     ellenbrook     2527    wa     19710708.0  32.0  08 86018809  westella  \n",
       "1   east preston     2074   nsw     19120921.0  34.0  02 97793152   foxdown  \n",
       "2       prospect     2305   nsw     19810905.0  22.0  02 20403934      None  \n",
       "3          henty     3620    wa     19840809.0  30.0  02 62832318    jodane  \n",
       "4  campbell town     4051   nsw     19340430.0  31.0  03 69359594      None  "
      ]
     },
     "execution_count": 4,
     "metadata": {},
     "output_type": "execute_result"
    }
   ],
   "source": [
    "print(\"size patients dataframe:\",df_patient.shape)\n",
    "df_patient[:5]"
   ]
  },
  {
   "cell_type": "code",
   "execution_count": 5,
   "metadata": {},
   "outputs": [
    {
     "name": "stdout",
     "output_type": "stream",
     "text": [
      "how many patients in total?\n",
      "19798  patients\n"
     ]
    }
   ],
   "source": [
    "print('how many patients in total?')\n",
    "tot_patients = len(df_patient['patient_id'].unique())\n",
    "print(tot_patients, ' patients') #num. unique IDs\n"
   ]
  },
  {
   "cell_type": "markdown",
   "metadata": {},
   "source": [
    "### 1.2 Résultats du PCR, test utilisé pour le diagnostic du Covid19"
   ]
  },
  {
   "cell_type": "code",
   "execution_count": 6,
   "metadata": {},
   "outputs": [
    {
     "name": "stdout",
     "output_type": "stream",
     "text": [
      "size pcr dataframe: (8800, 2)\n"
     ]
    },
    {
     "data": {
      "text/html": [
       "<div>\n",
       "<style scoped>\n",
       "    .dataframe tbody tr th:only-of-type {\n",
       "        vertical-align: middle;\n",
       "    }\n",
       "\n",
       "    .dataframe tbody tr th {\n",
       "        vertical-align: top;\n",
       "    }\n",
       "\n",
       "    .dataframe thead th {\n",
       "        text-align: right;\n",
       "    }\n",
       "</style>\n",
       "<table border=\"1\" class=\"dataframe\">\n",
       "  <thead>\n",
       "    <tr style=\"text-align: right;\">\n",
       "      <th></th>\n",
       "      <th>patient_id</th>\n",
       "      <th>pcr</th>\n",
       "    </tr>\n",
       "  </thead>\n",
       "  <tbody>\n",
       "    <tr>\n",
       "      <th>0</th>\n",
       "      <td>653091</td>\n",
       "      <td>N</td>\n",
       "    </tr>\n",
       "    <tr>\n",
       "      <th>1</th>\n",
       "      <td>347667</td>\n",
       "      <td>Negative</td>\n",
       "    </tr>\n",
       "    <tr>\n",
       "      <th>2</th>\n",
       "      <td>708481</td>\n",
       "      <td>Positive</td>\n",
       "    </tr>\n",
       "    <tr>\n",
       "      <th>3</th>\n",
       "      <td>148825</td>\n",
       "      <td>Negative</td>\n",
       "    </tr>\n",
       "    <tr>\n",
       "      <th>4</th>\n",
       "      <td>150081</td>\n",
       "      <td>Negative</td>\n",
       "    </tr>\n",
       "  </tbody>\n",
       "</table>\n",
       "</div>"
      ],
      "text/plain": [
       "   patient_id       pcr\n",
       "0      653091         N\n",
       "1      347667  Negative\n",
       "2      708481  Positive\n",
       "3      148825  Negative\n",
       "4      150081  Negative"
      ]
     },
     "execution_count": 6,
     "metadata": {},
     "output_type": "execute_result"
    }
   ],
   "source": [
    "print(\"size pcr dataframe:\",df_pcr.shape)\n",
    "df_pcr.head()"
   ]
  },
  {
   "cell_type": "code",
   "execution_count": 7,
   "metadata": {},
   "outputs": [
    {
     "name": "stdout",
     "output_type": "stream",
     "text": [
      "how many PCR in total?\n",
      "8765  PCR\n"
     ]
    }
   ],
   "source": [
    "print('how many PCR in total?')\n",
    "# list of tested patients\n",
    "tested_list = df_pcr['patient_id'].unique() #List unique values in the PCR patients ID column\n",
    "tot_pcr = len(tested_list)\n",
    "print(tot_pcr, ' PCR') #num. unique IDs"
   ]
  },
  {
   "cell_type": "markdown",
   "metadata": {},
   "source": [
    "## 2. Nettoyage des données - PCR"
   ]
  },
  {
   "cell_type": "code",
   "execution_count": 8,
   "metadata": {},
   "outputs": [
    {
     "name": "stdout",
     "output_type": "stream",
     "text": [
      "variables and types in pcr dataframe:\n",
      "\n",
      "patient_id     int64\n",
      "pcr           object\n",
      "dtype: object\n"
     ]
    }
   ],
   "source": [
    "print('variables and types in pcr dataframe:')\n",
    "print('')\n",
    "print(df_pcr.dtypes) # variables and types"
   ]
  },
  {
   "cell_type": "markdown",
   "metadata": {},
   "source": [
    "### 2.1 Doublons"
   ]
  },
  {
   "cell_type": "code",
   "execution_count": 9,
   "metadata": {},
   "outputs": [],
   "source": [
    "df_pcr_nodupes = df_pcr.drop_duplicates(subset=None, keep=\"first\", inplace=False)"
   ]
  },
  {
   "cell_type": "code",
   "execution_count": 10,
   "metadata": {},
   "outputs": [
    {
     "name": "stdout",
     "output_type": "stream",
     "text": [
      " \n",
      " PCR duplicates \n",
      " Empty DataFrame\n",
      "Columns: [patient_id, pcr]\n",
      "Index: []\n"
     ]
    }
   ],
   "source": [
    "duplicateDFRow_pcr = df_pcr_nodupes[df_pcr_nodupes.duplicated()]\n",
    "print(' \\n PCR duplicates \\n', duplicateDFRow_pcr)"
   ]
  },
  {
   "cell_type": "code",
   "execution_count": 11,
   "metadata": {},
   "outputs": [
    {
     "name": "stdout",
     "output_type": "stream",
     "text": [
      "we have 21 duplicated pcr IDs vs. 0 duplicate rows\n"
     ]
    }
   ],
   "source": [
    "duplicateID_pcr = df_pcr_nodupes[df_pcr_nodupes.duplicated(['patient_id'])]\n",
    "print(\"we have\", len(duplicateID_pcr.index), \"duplicated pcr IDs vs.\", len(duplicateDFRow_pcr.index), \"duplicate rows\")"
   ]
  },
  {
   "cell_type": "code",
   "execution_count": 12,
   "metadata": {},
   "outputs": [
    {
     "name": "stderr",
     "output_type": "stream",
     "text": [
      "<ipython-input-12-d8d81bb1f758>:3: SettingWithCopyWarning: \n",
      "A value is trying to be set on a copy of a slice from a DataFrame\n",
      "\n",
      "See the caveats in the documentation: https://pandas.pydata.org/pandas-docs/stable/user_guide/indexing.html#returning-a-view-versus-a-copy\n",
      "  duplicate_pcr_id.sort_values(by=['patient_id'], inplace=True)\n"
     ]
    },
    {
     "data": {
      "text/html": [
       "<div>\n",
       "<style scoped>\n",
       "    .dataframe tbody tr th:only-of-type {\n",
       "        vertical-align: middle;\n",
       "    }\n",
       "\n",
       "    .dataframe tbody tr th {\n",
       "        vertical-align: top;\n",
       "    }\n",
       "\n",
       "    .dataframe thead th {\n",
       "        text-align: right;\n",
       "    }\n",
       "</style>\n",
       "<table border=\"1\" class=\"dataframe\">\n",
       "  <thead>\n",
       "    <tr style=\"text-align: right;\">\n",
       "      <th></th>\n",
       "      <th>patient_id</th>\n",
       "      <th>pcr</th>\n",
       "    </tr>\n",
       "  </thead>\n",
       "  <tbody>\n",
       "    <tr>\n",
       "      <th>8469</th>\n",
       "      <td>169519</td>\n",
       "      <td>Positive</td>\n",
       "    </tr>\n",
       "    <tr>\n",
       "      <th>1842</th>\n",
       "      <td>169519</td>\n",
       "      <td>Negative</td>\n",
       "    </tr>\n",
       "    <tr>\n",
       "      <th>8615</th>\n",
       "      <td>212217</td>\n",
       "      <td>Positive</td>\n",
       "    </tr>\n",
       "    <tr>\n",
       "      <th>5618</th>\n",
       "      <td>212217</td>\n",
       "      <td>N</td>\n",
       "    </tr>\n",
       "    <tr>\n",
       "      <th>5785</th>\n",
       "      <td>227309</td>\n",
       "      <td>N</td>\n",
       "    </tr>\n",
       "    <tr>\n",
       "      <th>8591</th>\n",
       "      <td>227309</td>\n",
       "      <td>Negative</td>\n",
       "    </tr>\n",
       "    <tr>\n",
       "      <th>6355</th>\n",
       "      <td>231458</td>\n",
       "      <td>Negative</td>\n",
       "    </tr>\n",
       "    <tr>\n",
       "      <th>2463</th>\n",
       "      <td>231458</td>\n",
       "      <td>Positive</td>\n",
       "    </tr>\n",
       "    <tr>\n",
       "      <th>1805</th>\n",
       "      <td>378910</td>\n",
       "      <td>Negative</td>\n",
       "    </tr>\n",
       "    <tr>\n",
       "      <th>5381</th>\n",
       "      <td>378910</td>\n",
       "      <td>Positive</td>\n",
       "    </tr>\n",
       "  </tbody>\n",
       "</table>\n",
       "</div>"
      ],
      "text/plain": [
       "      patient_id       pcr\n",
       "8469      169519  Positive\n",
       "1842      169519  Negative\n",
       "8615      212217  Positive\n",
       "5618      212217         N\n",
       "5785      227309         N\n",
       "8591      227309  Negative\n",
       "6355      231458  Negative\n",
       "2463      231458  Positive\n",
       "1805      378910  Negative\n",
       "5381      378910  Positive"
      ]
     },
     "execution_count": 12,
     "metadata": {},
     "output_type": "execute_result"
    }
   ],
   "source": [
    "duplicate_pcr_id = df_pcr_nodupes.loc[df_pcr_nodupes['patient_id'].isin(duplicateID_pcr['patient_id'])]\n",
    "\n",
    "duplicate_pcr_id.sort_values(by=['patient_id'], inplace=True)\n",
    "\n",
    "duplicate_pcr_id[:10] #information to be removed since it is contradictory"
   ]
  },
  {
   "cell_type": "code",
   "execution_count": 13,
   "metadata": {},
   "outputs": [],
   "source": [
    "df_pcr_clean = df_pcr_nodupes.loc[~df_pcr_nodupes['patient_id'].isin(duplicateID_pcr['patient_id'])]"
   ]
  },
  {
   "cell_type": "markdown",
   "metadata": {},
   "source": [
    "### 2.2 Valeurs manquantes et standardisation résultats PCR"
   ]
  },
  {
   "cell_type": "code",
   "execution_count": 14,
   "metadata": {},
   "outputs": [
    {
     "name": "stdout",
     "output_type": "stream",
     "text": [
      "amount of empty cells in PCR dataframe columns: \n",
      " patient_id    0\n",
      "pcr           0\n",
      "dtype: int64\n"
     ]
    }
   ],
   "source": [
    "print('amount of empty cells in PCR dataframe columns: \\n', df_pcr_clean.isnull().sum(axis = 0))"
   ]
  },
  {
   "cell_type": "code",
   "execution_count": 15,
   "metadata": {},
   "outputs": [
    {
     "name": "stdout",
     "output_type": "stream",
     "text": [
      "['N' 'Negative' 'Positive' 'P']\n"
     ]
    }
   ],
   "source": [
    "print(df_pcr_clean['pcr'].unique())"
   ]
  },
  {
   "cell_type": "code",
   "execution_count": 16,
   "metadata": {},
   "outputs": [],
   "source": [
    "df_pcr_clean = df_pcr_clean.replace({'pcr': {'P': 'Positive', 'N': 'Negative'}}) # replace P and N with verbose values"
   ]
  },
  {
   "cell_type": "code",
   "execution_count": 17,
   "metadata": {},
   "outputs": [
    {
     "name": "stdout",
     "output_type": "stream",
     "text": [
      "before cleaning (8800, 2)\n",
      "after cleaning (8744, 2)\n"
     ]
    },
    {
     "data": {
      "text/html": [
       "<div>\n",
       "<style scoped>\n",
       "    .dataframe tbody tr th:only-of-type {\n",
       "        vertical-align: middle;\n",
       "    }\n",
       "\n",
       "    .dataframe tbody tr th {\n",
       "        vertical-align: top;\n",
       "    }\n",
       "\n",
       "    .dataframe thead th {\n",
       "        text-align: right;\n",
       "    }\n",
       "</style>\n",
       "<table border=\"1\" class=\"dataframe\">\n",
       "  <thead>\n",
       "    <tr style=\"text-align: right;\">\n",
       "      <th></th>\n",
       "      <th>patient_id</th>\n",
       "      <th>pcr</th>\n",
       "    </tr>\n",
       "  </thead>\n",
       "  <tbody>\n",
       "    <tr>\n",
       "      <th>0</th>\n",
       "      <td>653091</td>\n",
       "      <td>Negative</td>\n",
       "    </tr>\n",
       "    <tr>\n",
       "      <th>1</th>\n",
       "      <td>347667</td>\n",
       "      <td>Negative</td>\n",
       "    </tr>\n",
       "    <tr>\n",
       "      <th>2</th>\n",
       "      <td>708481</td>\n",
       "      <td>Positive</td>\n",
       "    </tr>\n",
       "    <tr>\n",
       "      <th>3</th>\n",
       "      <td>148825</td>\n",
       "      <td>Negative</td>\n",
       "    </tr>\n",
       "    <tr>\n",
       "      <th>4</th>\n",
       "      <td>150081</td>\n",
       "      <td>Negative</td>\n",
       "    </tr>\n",
       "  </tbody>\n",
       "</table>\n",
       "</div>"
      ],
      "text/plain": [
       "   patient_id       pcr\n",
       "0      653091  Negative\n",
       "1      347667  Negative\n",
       "2      708481  Positive\n",
       "3      148825  Negative\n",
       "4      150081  Negative"
      ]
     },
     "execution_count": 17,
     "metadata": {},
     "output_type": "execute_result"
    }
   ],
   "source": [
    "print('before cleaning',df_pcr.shape)\n",
    "print('after cleaning',df_pcr_clean.shape)\n",
    "df_pcr_clean.head()"
   ]
  },
  {
   "cell_type": "code",
   "execution_count": 18,
   "metadata": {},
   "outputs": [],
   "source": [
    "tested_IDlist_clean = df_pcr_clean['patient_id'].unique()"
   ]
  },
  {
   "cell_type": "markdown",
   "metadata": {},
   "source": [
    "## 3. Nettoyage des données - patients"
   ]
  },
  {
   "cell_type": "markdown",
   "metadata": {},
   "source": [
    "- celles vides / valeurs manquantes\n",
    "\n",
    "- imputation celles vides et traitement des valeurs aberrants \n",
    "\n",
    "- typos dans la colonne états (state)\n",
    "\n",
    "- détection et suppression des doublons\n"
   ]
  },
  {
   "cell_type": "markdown",
   "metadata": {},
   "source": [
    "## 3.1 Valeurs manquantes"
   ]
  },
  {
   "cell_type": "markdown",
   "metadata": {},
   "source": [
    "### 3.1.1 Statistique celles vides"
   ]
  },
  {
   "cell_type": "code",
   "execution_count": 19,
   "metadata": {},
   "outputs": [],
   "source": [
    "i = 0 # initialize column count\n",
    "colnum = []\n",
    "colname = []\n",
    "nullpc = []\n",
    "for col in df_patient:\n",
    "    i +=1 # update the counter\n",
    "    nulsum = sum(pd.isnull(df_patient[col])) # sum of null value for the column (empty cells)\n",
    "    numrows = len(df_patient)\n",
    "    nuls_pourcent = (sum(pd.isnull(df_patient[col]))/numrows)*100 # % of null value for the column\n",
    "    r_nuls_pourcent = round(nuls_pourcent, 3) # return only the first 3 digits after the comma of the percentage float value\n",
    "    #create columnstats database\n",
    "    colnum.append(i) # first column: column number\n",
    "    colname.append(col) # column name\n",
    "    nullpc.append(r_nuls_pourcent) # % null values\n",
    "    "
   ]
  },
  {
   "cell_type": "code",
   "execution_count": 20,
   "metadata": {},
   "outputs": [],
   "source": [
    "df_nul = pd.DataFrame({'num':colnum, 'name':colname, '%null':nullpc})\n",
    "df_nul = df_nul.sort_values(by='%null', ascending=False)"
   ]
  },
  {
   "cell_type": "code",
   "execution_count": 21,
   "metadata": {},
   "outputs": [
    {
     "data": {
      "image/png": "[encoded data removed]",
      "text/plain": [
       "<Figure size 1656x576 with 1 Axes>"
      ]
     },
     "metadata": {
      "needs_background": "light"
     },
     "output_type": "display_data"
    }
   ],
   "source": [
    "plt.figure(figsize=(23,8))\n",
    "\n",
    "plt.bar(df_nul['name'], df_nul['%null'])\n",
    "plt.title('NaN % in the dataframe', color=\"red\", fontsize = 14)\n",
    "plt.ylabel('% empty cell in the column', color=\"red\", fontsize = 14)\n",
    "plt.xticks(rotation='vertical')\n",
    "plt.rcParams['figure.constrained_layout.use'] = True\n",
    "plt.savefig(\"null.png\", format=\"PNG\", dpi = 100)"
   ]
  },
  {
   "cell_type": "markdown",
   "metadata": {},
   "source": [
    "### 3.1.2 Imputation des valeurs manquantes"
   ]
  },
  {
   "cell_type": "code",
   "execution_count": 22,
   "metadata": {},
   "outputs": [
    {
     "name": "stdout",
     "output_type": "stream",
     "text": [
      "variables and types in patients dataframe:\n",
      "\n",
      "patient_id         int64\n",
      "given_name        object\n",
      "surname           object\n",
      "street_number    float64\n",
      "address_1         object\n",
      "suburb            object\n",
      "postcode          object\n",
      "state             object\n",
      "date_of_birth    float64\n",
      "age              float64\n",
      "phone_number      object\n",
      "address_2         object\n",
      "dtype: object\n"
     ]
    }
   ],
   "source": [
    "print('variables and types in patients dataframe:')\n",
    "print('')\n",
    "print(df_patient.dtypes) # variables and types"
   ]
  },
  {
   "cell_type": "markdown",
   "metadata": {},
   "source": [
    "#### 3.1.2.1 inputation variables numeriques"
   ]
  },
  {
   "cell_type": "markdown",
   "metadata": {},
   "source": [
    "#####  - CAP"
   ]
  },
  {
   "cell_type": "code",
   "execution_count": 23,
   "metadata": {},
   "outputs": [],
   "source": [
    "df_patient_filled = df_patient #initialize the dataframe to be filled"
   ]
  },
  {
   "cell_type": "code",
   "execution_count": 24,
   "metadata": {},
   "outputs": [],
   "source": [
    "# function to fill postcode values\n",
    "def postcode_filler(df):\n",
    "    df_patient_filled['postcode'] = df_patient_filled['postcode'].fillna('0000') # fill empty cells\n",
    "    df_patient_filled['postcode'] = df_patient_filled.apply(lambda cell: '0000' if len(cell['postcode']) > 4 else cell['postcode'], axis=1) # inputation of values that are not a postcode\n",
    "    df_patient_filled['postcode'] = df_patient_filled['postcode'].astype(int)\n",
    "    return df"
   ]
  },
  {
   "cell_type": "code",
   "execution_count": 25,
   "metadata": {},
   "outputs": [],
   "source": [
    "df_patient_filled = postcode_filler(df_patient_filled) # apply the function "
   ]
  },
  {
   "cell_type": "markdown",
   "metadata": {},
   "source": [
    "#####  - numèro rue"
   ]
  },
  {
   "cell_type": "code",
   "execution_count": 26,
   "metadata": {},
   "outputs": [
    {
     "name": "stdout",
     "output_type": "stream",
     "text": [
      "missing street numbers filled with 0\n"
     ]
    }
   ],
   "source": [
    "df_patient_filled.street_number.fillna(0) \n",
    "\n",
    "print('missing street numbers filled with 0')"
   ]
  },
  {
   "cell_type": "markdown",
   "metadata": {},
   "source": [
    "#####  - dates de naissance et age"
   ]
  },
  {
   "cell_type": "markdown",
   "metadata": {},
   "source": [
    "Pour traiter la variable \"date de naissance\" on pourrait la convertir en variable date comme on ferait avec la commande SQL \n",
    "\n",
    "select convert(date, convert(varchar(255), yyyymm) + '01')\n",
    "\n",
    "mais pour la comparer à l'age est plus interessant recuperer seulement l'année\n"
   ]
  },
  {
   "cell_type": "code",
   "execution_count": 27,
   "metadata": {},
   "outputs": [],
   "source": [
    "def year_from_sqldate(df, datecolumn):\n",
    "    datecolumn = datecolumn.fillna(19001101.0) # imputation des valeurs mancants avec 1900\n",
    "    df['dates'] = datecolumn.astype(str)\n",
    "    df['birth_year'] = [x[:4] for x in df_patient['dates']]\n",
    "    df['birth_year'] = df['birth_year'].astype(int)\n",
    "    del df['dates']\n",
    "    return df['birth_year'] "
   ]
  },
  {
   "cell_type": "code",
   "execution_count": 28,
   "metadata": {},
   "outputs": [
    {
     "data": {
      "text/plain": [
       "0        1971\n",
       "1        1912\n",
       "2        1981\n",
       "3        1984\n",
       "4        1934\n",
       "         ... \n",
       "19995    1957\n",
       "19996    1959\n",
       "19997    1900\n",
       "19998    1914\n",
       "19999    1923\n",
       "Name: birth_year, Length: 20000, dtype: int64"
      ]
     },
     "execution_count": 28,
     "metadata": {},
     "output_type": "execute_result"
    }
   ],
   "source": [
    "year_from_sqldate(df_patient_filled, df_patient_filled['date_of_birth']) # apply the function to the patients dataframe"
   ]
  },
  {
   "cell_type": "code",
   "execution_count": 80,
   "metadata": {},
   "outputs": [
    {
     "name": "stdout",
     "output_type": "stream",
     "text": [
      "1290 1999\n",
      "ages below 0 are unrealistic, they get replaced by that calculated from birth year\n"
     ]
    }
   ],
   "source": [
    "print(min(df_patient_filled['birth_year']), max(df_patient_filled['birth_year'])) \n",
    "df_patient_filled['birth_year'] = df_patient_filled.apply(lambda cell: 1900 if cell['birth_year']<1900 else cell['birth_year'], axis=1)\n",
    "      \n",
    "print('correct dates earlier than 1900')"
   ]
  },
  {
   "cell_type": "code",
   "execution_count": 29,
   "metadata": {},
   "outputs": [],
   "source": [
    "# knowing that COVID-19 came to Australia in 2020, I can calculate the age subctracting the birthyear \n",
    "\n",
    "df_patient_filled[\"estimated_age\"] = 2020 - df_patient['birth_year'] "
   ]
  },
  {
   "cell_type": "code",
   "execution_count": 30,
   "metadata": {},
   "outputs": [],
   "source": [
    "# filling missing values with those calculated from birth year\n",
    "df_patient_filled['age']= df_patient_filled['age'].fillna(df_patient_filled[\"estimated_age\"])\n",
    "df_patient_filled['age']= df_patient_filled['age'].astype(int)"
   ]
  },
  {
   "cell_type": "markdown",
   "metadata": {},
   "source": [
    "##### - valeurs aberrants age"
   ]
  },
  {
   "cell_type": "code",
   "execution_count": 31,
   "metadata": {},
   "outputs": [
    {
     "data": {
      "image/png": "[encoded data removed]",
      "text/plain": [
       "<Figure size 432x288 with 1 Axes>"
      ]
     },
     "metadata": {},
     "output_type": "display_data"
    }
   ],
   "source": [
    "sns.set(style=\"whitegrid\")\n",
    "\n",
    "ax = sns.boxplot(x=df_patient_filled['age'])"
   ]
  },
  {
   "cell_type": "code",
   "execution_count": 82,
   "metadata": {},
   "outputs": [
    {
     "name": "stdout",
     "output_type": "stream",
     "text": [
      "null values: 0 no more empty cells!!!\n",
      "\n",
      "0 too young to be true\n",
      "783 too old to be true\n",
      "max age: 120\n"
     ]
    }
   ],
   "source": [
    "print('null values:', sum(pd.isnull(df_patient_filled['age'])), \"no more empty cells!!!\")\n",
    "print('')\n",
    "print(len(df_patient_filled.loc[df_patient_filled['age'] < 0]), 'too young to be true')\n",
    "print(len(df_patient.loc[df_patient_filled['age'] >= 110]), 'too old to be true')\n",
    "print('max age:',max(df_patient_filled['age']))"
   ]
  },
  {
   "cell_type": "code",
   "execution_count": 34,
   "metadata": {},
   "outputs": [
    {
     "name": "stdout",
     "output_type": "stream",
     "text": [
      "ages below 0 are unrealistic, they get replaced by that calculated from birth year\n",
      "max age: 120\n",
      "if the patient given age exceeds this value, it is replaced by that calculated from birth year\n"
     ]
    }
   ],
   "source": [
    "# imputation of average values for excessive values\n",
    "df_patient_filled['age'] = df_patient_filled.apply(lambda cell: cell['estimated_age'] if cell['age']<0 else cell['age'], axis=1) \n",
    "print('ages below 0 are unrealistic, they get replaced by that calculated from birth year')\n",
    "\n",
    "df_patient_filled['age'] = df_patient_filled.apply(lambda cell: cell['estimated_age'] if cell['age']>110 else cell['age'], axis=1) # imputation of average values for excessive values\n",
    "\n",
    "print('max age:',max(df_patient_filled['age']))\n",
    "print('if the patient given age exceeds this value, it is replaced by that calculated from birth year')"
   ]
  },
  {
   "cell_type": "markdown",
   "metadata": {},
   "source": [
    "#### 3.1.2.2 inputation variables objet"
   ]
  },
  {
   "cell_type": "markdown",
   "metadata": {},
   "source": [
    "##### - \"missing\" au lieu des valeurs mancants"
   ]
  },
  {
   "cell_type": "code",
   "execution_count": 35,
   "metadata": {},
   "outputs": [],
   "source": [
    "def obj_inputation(df):    \n",
    "    str_cols = df.select_dtypes(include=['object']).columns\n",
    "\n",
    "    df.loc[:, str_cols] = df.loc[:, str_cols].fillna('missing')\n",
    "    return df\n",
    "\n",
    "df_patient_filled = obj_inputation(df_patient_filled)"
   ]
  },
  {
   "cell_type": "markdown",
   "metadata": {},
   "source": [
    "##### - la variable état (state)"
   ]
  },
  {
   "cell_type": "markdown",
   "metadata": {},
   "source": [
    "Beaucoup de typos et valeurs manquants dans la colonne \"state\". Il ne serait pas possible de faire une statistique basée sur les données brutes. \n"
   ]
  },
  {
   "cell_type": "markdown",
   "metadata": {},
   "source": [
    "On pourrait corriger les typos (ex. nxw = nsw) mais cette methode ne corrigerait pas des nouveaux typos. On cherche une methode plus robuste."
   ]
  },
  {
   "cell_type": "code",
   "execution_count": 36,
   "metadata": {},
   "outputs": [
    {
     "data": {
      "text/plain": [
       "array(['wa', 'nsw', 'qld', 'nt', 'sa', 'missing', 'act', 'vic', 'tas',\n",
       "       'vc', 'qkd', 's', 'qlh', 'nswf', 'ndw', 'nsjw', 'nsza', 'nu',\n",
       "       'vicf', 'vicb', 'nswt', 'nsg', 'qlf', 'wr', 'vicz', 'nsa', 'wab',\n",
       "       'qxlj', 'ai', 'qlg', 'vil', 'qln', 'qlc', 'ws', 'qls', 'viv', 'ta',\n",
       "       'nswm', 'nfw', 'vie', 'nsq', 'nxw', 'nfsw', 'vkc', 'qlr', 'ns',\n",
       "       'naw', 'ic', 'nwd', 'qod', 'tab', 'nsd', 'vmv', 'fsw', 'vich',\n",
       "       'nwx', 'a', 'qlt', 'nsc', 'wu', 'nss', 'vucm', 'vix', 'nsy', 'ng',\n",
       "       'nse', 'w', 'ql', 'sv', 'taz', 'tak', 'vh', 'nze', 'nswb', 'qlz',\n",
       "       'vicm', 'waw', 'nsew', 'nvq', 'wz', 'gic', 'vid', 'qldg', 'vuv',\n",
       "       'vib', 'qud', 'nsxw', 'nlw', 'vif', 'nsn', 'nssw', 'nsgs', 'vicw',\n",
       "       'wq', 'vq', 'nswn', 'tad', 'qle', 'vcci', 'qdd', 'vi', 'qldy',\n",
       "       'nsjh'], dtype=object)"
      ]
     },
     "execution_count": 36,
     "metadata": {},
     "output_type": "execute_result"
    }
   ],
   "source": [
    "df_patient_filled['state'].unique()"
   ]
  },
  {
   "cell_type": "markdown",
   "metadata": {},
   "source": [
    "Pour corriger les erreurs et faire une imputation des valeurs manquants on essaye de recuperer les bonnes valeurs à partir des codes postales."
   ]
  },
  {
   "cell_type": "markdown",
   "metadata": {},
   "source": [
    "Ici la liste des code postale associés à chaque état: "
   ]
  },
  {
   "cell_type": "markdown",
   "metadata": {},
   "source": [
    "https://en.wikipedia.org/wiki/Postcodes_in_Australia"
   ]
  },
  {
   "cell_type": "code",
   "execution_count": 37,
   "metadata": {},
   "outputs": [],
   "source": [
    "df_patient_filled['state_inferred'] = df_patient_filled['postcode'] # initialize feature"
   ]
  },
  {
   "cell_type": "code",
   "execution_count": 38,
   "metadata": {},
   "outputs": [],
   "source": [
    "# define lists of postcodes by state:\n",
    "# New South Wales\n",
    "NSW1 = np.arange(1000, 2600)\n",
    "NSW2 = np.arange(2619, 2900)\n",
    "NSW3 = np.arange(2921, 3000)\n",
    "NSW = list(np.concatenate((NSW1, NSW2, NSW3), axis=None)) # New South Wales postcodes\n",
    "#Australian Capital Territory\n",
    "ACT1 = np.arange(200, 300)\n",
    "ACT2 = np.arange(2600, 2619)\n",
    "ACT3 = np.arange(2900, 2921)\n",
    "ACT = list(np.concatenate((ACT1, ACT2, ACT3), axis=None)) #Australian Capital Territory postcodes\n",
    "#Victoria\n",
    "VIC1 = np.arange(3000, 4000)\n",
    "VIC2 = np.arange(8000, 9000)\n",
    "VIC = list(np.concatenate((VIC1, VIC2), axis=None)) #Victoria postcodes\n",
    "#Queensland\n",
    "QLD1 = np.arange(4000, 5000)\n",
    "QLD2 = np.arange(9000, 10000)\n",
    "QLD = list(np.concatenate((QLD1, QLD2), axis=None)) #Queensland postcodes\n",
    "#South Australia\n",
    "SA = list(np.arange(5000, 6000)) #South Australia postcodes\n",
    "#Western Australia\n",
    "WA = list(np.arange(6000, 7000)) #Western Australia postcodes\n",
    "#Tasmania\n",
    "TAS = list(np.arange(7000, 8000)) #Tasmania postcodes\n",
    "#Northern Territory\n",
    "NT = list(np.arange(800, 1000)) #Northern Territory postcodes"
   ]
  },
  {
   "cell_type": "code",
   "execution_count": 39,
   "metadata": {},
   "outputs": [],
   "source": [
    "states_list = ['nsw', 'act', 'vic', 'qld', 'sa', 'wa', 'tas', 'nt', 'missing']\n",
    "postcodes_list = [NSW, ACT, VIC, QLD , SA, WA, TAS, NT, [0]]"
   ]
  },
  {
   "cell_type": "code",
   "execution_count": 40,
   "metadata": {},
   "outputs": [],
   "source": [
    "# assign state to each postcode in the list \n",
    "for i in np.arange(0,len(states_list)):\n",
    "    df_patient_filled['state_inferred']  = np.where(~df_patient_filled['postcode'].isin(postcodes_list[i]), df_patient_filled['state_inferred'] , states_list[i])\n",
    " "
   ]
  },
  {
   "cell_type": "markdown",
   "metadata": {},
   "source": [
    "Finalement je vais exchanger les typos et les valeurs manquants de la colonne \"state\" avec ceux de la colonne \"inferred state\""
   ]
  },
  {
   "cell_type": "code",
   "execution_count": 41,
   "metadata": {},
   "outputs": [],
   "source": [
    "AU_states_list = ['nsw', 'act', 'vic', 'qld', 'sa', 'wa', 'tas', 'nt']"
   ]
  },
  {
   "cell_type": "code",
   "execution_count": 42,
   "metadata": {},
   "outputs": [],
   "source": [
    "\n",
    "#df_patient_filled['state']  = df_patient_filled.apply(lambda cell: cell['state_inferred'] if cell['state'].isin(AU_states_list) else cell['state'], axis=1)\n",
    "df_patient_filled['state_filled']  = np.where(df_patient_filled['state'].isin(AU_states_list), df_patient_filled['state'] , df_patient_filled['state_inferred'])\n"
   ]
  },
  {
   "cell_type": "markdown",
   "metadata": {},
   "source": [
    "## 3.2 Doublons"
   ]
  },
  {
   "cell_type": "code",
   "execution_count": 43,
   "metadata": {},
   "outputs": [],
   "source": [
    "df_patient_clean = df_patient_filled # initialize the dataframe to get cleaned"
   ]
  },
  {
   "cell_type": "markdown",
   "metadata": {},
   "source": [
    "### 3.2.1 Exploration des variables clés pour detecter les doublons"
   ]
  },
  {
   "cell_type": "markdown",
   "metadata": {},
   "source": [
    "#### 3.2.1.1 Lignes identiques"
   ]
  },
  {
   "cell_type": "code",
   "execution_count": 44,
   "metadata": {},
   "outputs": [
    {
     "name": "stdout",
     "output_type": "stream",
     "text": [
      "total identical rows:  0\n"
     ]
    }
   ],
   "source": [
    "# this is a function that detects repeated values in the dataframe\n",
    "duplicateDFRow_patient = df_patient_clean[df_patient_clean.duplicated()]\n",
    "print('total identical rows: ', len(duplicateDFRow_patient.index))"
   ]
  },
  {
   "cell_type": "markdown",
   "metadata": {},
   "source": [
    "#### 3.2.1.2 Doublons patient_id"
   ]
  },
  {
   "cell_type": "code",
   "execution_count": 45,
   "metadata": {},
   "outputs": [
    {
     "name": "stdout",
     "output_type": "stream",
     "text": [
      "we have 202 duplicated patient IDs vs 0 duplicate rows\n"
     ]
    }
   ],
   "source": [
    "duplicateID_patient = df_patient_clean[df_patient_clean.duplicated(['patient_id'])]\n",
    "print(\"we have\", len(duplicateID_patient.index), \"duplicated patient IDs vs\", len(duplicateDFRow_patient.index), \"duplicate rows\")"
   ]
  },
  {
   "cell_type": "code",
   "execution_count": 46,
   "metadata": {},
   "outputs": [
    {
     "ename": "SyntaxError",
     "evalue": "invalid syntax (<ipython-input-46-f24bf1330809>, line 1)",
     "output_type": "error",
     "traceback": [
      "\u001b[0;36m  File \u001b[0;32m\"<ipython-input-46-f24bf1330809>\"\u001b[0;36m, line \u001b[0;32m1\u001b[0m\n\u001b[0;31m    def detect_duplicates:\u001b[0m\n\u001b[0m                         ^\u001b[0m\n\u001b[0;31mSyntaxError\u001b[0m\u001b[0;31m:\u001b[0m invalid syntax\n"
     ]
    }
   ],
   "source": [
    "def detect_duplicates:"
   ]
  },
  {
   "cell_type": "code",
   "execution_count": 47,
   "metadata": {},
   "outputs": [
    {
     "name": "stderr",
     "output_type": "stream",
     "text": [
      "<ipython-input-47-e6fdfceef6b1>:3: SettingWithCopyWarning: \n",
      "A value is trying to be set on a copy of a slice from a DataFrame\n",
      "\n",
      "See the caveats in the documentation: https://pandas.pydata.org/pandas-docs/stable/user_guide/indexing.html#returning-a-view-versus-a-copy\n",
      "  duplicate_patients_id.sort_values(by=['patient_id'], inplace=True)\n"
     ]
    },
    {
     "data": {
      "text/html": [
       "<div>\n",
       "<style scoped>\n",
       "    .dataframe tbody tr th:only-of-type {\n",
       "        vertical-align: middle;\n",
       "    }\n",
       "\n",
       "    .dataframe tbody tr th {\n",
       "        vertical-align: top;\n",
       "    }\n",
       "\n",
       "    .dataframe thead th {\n",
       "        text-align: right;\n",
       "    }\n",
       "</style>\n",
       "<table border=\"1\" class=\"dataframe\">\n",
       "  <thead>\n",
       "    <tr style=\"text-align: right;\">\n",
       "      <th></th>\n",
       "      <th>patient_id</th>\n",
       "      <th>given_name</th>\n",
       "      <th>surname</th>\n",
       "      <th>street_number</th>\n",
       "      <th>address_1</th>\n",
       "      <th>suburb</th>\n",
       "      <th>postcode</th>\n",
       "      <th>state</th>\n",
       "      <th>date_of_birth</th>\n",
       "      <th>age</th>\n",
       "      <th>phone_number</th>\n",
       "      <th>address_2</th>\n",
       "      <th>birth_year</th>\n",
       "      <th>estimated_age</th>\n",
       "      <th>state_inferred</th>\n",
       "      <th>state_filled</th>\n",
       "    </tr>\n",
       "  </thead>\n",
       "  <tbody>\n",
       "    <tr>\n",
       "      <th>1197</th>\n",
       "      <td>289139</td>\n",
       "      <td>harry</td>\n",
       "      <td>monteleone</td>\n",
       "      <td>4.0</td>\n",
       "      <td>bosworth circuit</td>\n",
       "      <td>forrestfield</td>\n",
       "      <td>2166</td>\n",
       "      <td>qld</td>\n",
       "      <td>19430921.0</td>\n",
       "      <td>31</td>\n",
       "      <td>07 69341091</td>\n",
       "      <td>north road</td>\n",
       "      <td>1943</td>\n",
       "      <td>77</td>\n",
       "      <td>nsw</td>\n",
       "      <td>qld</td>\n",
       "    </tr>\n",
       "    <tr>\n",
       "      <th>3710</th>\n",
       "      <td>289139</td>\n",
       "      <td>blakeston</td>\n",
       "      <td>mason</td>\n",
       "      <td>76.0</td>\n",
       "      <td>jalanga crescent</td>\n",
       "      <td>buddina</td>\n",
       "      <td>2404</td>\n",
       "      <td>qld</td>\n",
       "      <td>19320603.0</td>\n",
       "      <td>29</td>\n",
       "      <td>08 45959557</td>\n",
       "      <td>brookvale</td>\n",
       "      <td>1932</td>\n",
       "      <td>88</td>\n",
       "      <td>nsw</td>\n",
       "      <td>qld</td>\n",
       "    </tr>\n",
       "    <tr>\n",
       "      <th>8314</th>\n",
       "      <td>289637</td>\n",
       "      <td>alex</td>\n",
       "      <td>green</td>\n",
       "      <td>8.0</td>\n",
       "      <td>roderick street</td>\n",
       "      <td>smithfield heights</td>\n",
       "      <td>3777</td>\n",
       "      <td>nsw</td>\n",
       "      <td>19360728.0</td>\n",
       "      <td>31</td>\n",
       "      <td>03 10259022</td>\n",
       "      <td>yackatoon rtrmnt vlge</td>\n",
       "      <td>1936</td>\n",
       "      <td>84</td>\n",
       "      <td>vic</td>\n",
       "      <td>nsw</td>\n",
       "    </tr>\n",
       "    <tr>\n",
       "      <th>19224</th>\n",
       "      <td>289637</td>\n",
       "      <td>tyler</td>\n",
       "      <td>dixon</td>\n",
       "      <td>167.0</td>\n",
       "      <td>craydon place</td>\n",
       "      <td>thornleigh</td>\n",
       "      <td>5501</td>\n",
       "      <td>nsw</td>\n",
       "      <td>19741231.0</td>\n",
       "      <td>10</td>\n",
       "      <td>02 61554742</td>\n",
       "      <td>missing</td>\n",
       "      <td>1974</td>\n",
       "      <td>46</td>\n",
       "      <td>sa</td>\n",
       "      <td>nsw</td>\n",
       "    </tr>\n",
       "  </tbody>\n",
       "</table>\n",
       "</div>"
      ],
      "text/plain": [
       "       patient_id given_name     surname  street_number         address_1  \\\n",
       "1197       289139      harry  monteleone            4.0  bosworth circuit   \n",
       "3710       289139  blakeston       mason           76.0  jalanga crescent   \n",
       "8314       289637       alex       green            8.0   roderick street   \n",
       "19224      289637      tyler       dixon          167.0     craydon place   \n",
       "\n",
       "                   suburb  postcode state  date_of_birth  age phone_number  \\\n",
       "1197         forrestfield      2166   qld     19430921.0   31  07 69341091   \n",
       "3710              buddina      2404   qld     19320603.0   29  08 45959557   \n",
       "8314   smithfield heights      3777   nsw     19360728.0   31  03 10259022   \n",
       "19224          thornleigh      5501   nsw     19741231.0   10  02 61554742   \n",
       "\n",
       "                   address_2  birth_year  estimated_age state_inferred  \\\n",
       "1197              north road        1943             77            nsw   \n",
       "3710               brookvale        1932             88            nsw   \n",
       "8314   yackatoon rtrmnt vlge        1936             84            vic   \n",
       "19224                missing        1974             46             sa   \n",
       "\n",
       "      state_filled  \n",
       "1197           qld  \n",
       "3710           qld  \n",
       "8314           nsw  \n",
       "19224          nsw  "
      ]
     },
     "execution_count": 47,
     "metadata": {},
     "output_type": "execute_result"
    }
   ],
   "source": [
    "duplicate_patients_id = df_patient_clean.loc[df_patient_clean['patient_id'].isin(duplicateID_patient['patient_id'])]\n",
    "\n",
    "duplicate_patients_id.sort_values(by=['patient_id'], inplace=True)\n",
    "\n",
    "duplicate_patients_id[66:70]"
   ]
  },
  {
   "cell_type": "code",
   "execution_count": 48,
   "metadata": {},
   "outputs": [],
   "source": [
    "df_patient_clean['tested'] = df_patient_clean['patient_id']\n",
    "\n",
    "df_patient_clean['tested']  = np.where(df_patient_clean['patient_id'].isin(tested_IDlist_clean), 1 , 0) # assign 1 if patient_ID belongs to tested dataframe, 0 otherwise"
   ]
  },
  {
   "cell_type": "code",
   "execution_count": 49,
   "metadata": {},
   "outputs": [
    {
     "name": "stdout",
     "output_type": "stream",
     "text": [
      "total_IDs labeled as tested in patient dataframe \n",
      " before duplicates removal:  8856 \n",
      " unique tested IDs:  8744 \n",
      " duplicate tested IDs: 112\n"
     ]
    }
   ],
   "source": [
    "print ('total_IDs labeled as tested in patient dataframe \\n before duplicates removal: ', sum(df_patient_clean['tested']),\"\\n unique tested IDs: \", len(tested_IDlist_clean), \"\\n duplicate tested IDs:\" , sum(df_patient_clean['tested'])-len(tested_IDlist_clean))"
   ]
  },
  {
   "cell_type": "code",
   "execution_count": 50,
   "metadata": {},
   "outputs": [
    {
     "name": "stdout",
     "output_type": "stream",
     "text": [
      "['patient_id', 'given_name', 'surname', 'street_number', 'address_1', 'suburb', 'postcode', 'state', 'date_of_birth', 'age', 'phone_number', 'address_2', 'birth_year', 'estimated_age', 'state_inferred', 'state_filled', 'tested']\n"
     ]
    }
   ],
   "source": [
    "col_list = df_patient_clean.columns.tolist()\n",
    "#del col_list[1:3]\n",
    "\n",
    "print(col_list)"
   ]
  },
  {
   "cell_type": "markdown",
   "metadata": {},
   "source": [
    "#### 3.2.1.2 Doublons nom-prénom-CAP"
   ]
  },
  {
   "cell_type": "markdown",
   "metadata": {},
   "source": [
    "Du moment que on pourrait avoir des doublons avec numero de telephone manquant, on va créer une autre variable pour identifier au mieux les patients. "
   ]
  },
  {
   "cell_type": "markdown",
   "metadata": {},
   "source": [
    "La jointure de nom+prénom donne des doublons mais beaucoup des valeurs identiques"
   ]
  },
  {
   "cell_type": "markdown",
   "metadata": {},
   "source": [
    "Donc on ajoute le CAP et l'identificatif sera le nom/prenom/CAP des patients.\n",
    "Pour ca il faut joindre les trois variables"
   ]
  },
  {
   "cell_type": "code",
   "execution_count": null,
   "metadata": {},
   "outputs": [],
   "source": []
  },
  {
   "cell_type": "code",
   "execution_count": 51,
   "metadata": {},
   "outputs": [],
   "source": [
    "df_patient_clean['postcode_str']= df_patient_clean['postcode'].astype(str)\n",
    "df_patient_clean['name_postcode'] = df_patient_clean[['given_name', 'postcode_str']].apply(lambda x: ' '.join(x), axis=1)\n",
    "df_patient_clean['surname_postcode'] = df_patient_clean[['surname', 'postcode_str']].apply(lambda x: ' '.join(x), axis=1)"
   ]
  },
  {
   "cell_type": "code",
   "execution_count": 52,
   "metadata": {},
   "outputs": [
    {
     "name": "stdout",
     "output_type": "stream",
     "text": [
      "we have 1686 duplicated name+postcode vs 0 duplicate rows\n"
     ]
    },
    {
     "name": "stderr",
     "output_type": "stream",
     "text": [
      "<ipython-input-52-be357a8ef65a>:5: SettingWithCopyWarning: \n",
      "A value is trying to be set on a copy of a slice from a DataFrame\n",
      "\n",
      "See the caveats in the documentation: https://pandas.pydata.org/pandas-docs/stable/user_guide/indexing.html#returning-a-view-versus-a-copy\n",
      "  duplicate_pname_id.sort_values(by=['name_postcode'], inplace=True)\n"
     ]
    }
   ],
   "source": [
    "duplicate_pname = df_patient_clean[df_patient_clean.duplicated(['name_postcode'])]\n",
    "print(\"we have\", len(duplicate_pname.index), \"duplicated name+postcode vs\", len(duplicateDFRow_patient.index), \"duplicate rows\")\n",
    "duplicate_pname_id = df_patient_clean.loc[df_patient_clean['name_postcode'].isin(duplicate_pname['name_postcode'])]\n",
    "\n",
    "duplicate_pname_id.sort_values(by=['name_postcode'], inplace=True)"
   ]
  },
  {
   "cell_type": "code",
   "execution_count": 53,
   "metadata": {},
   "outputs": [
    {
     "name": "stdout",
     "output_type": "stream",
     "text": [
      "we have 1652 duplicated surname+postcode vs 0 duplicate rows\n"
     ]
    },
    {
     "name": "stderr",
     "output_type": "stream",
     "text": [
      "<ipython-input-53-10952e228415>:5: SettingWithCopyWarning: \n",
      "A value is trying to be set on a copy of a slice from a DataFrame\n",
      "\n",
      "See the caveats in the documentation: https://pandas.pydata.org/pandas-docs/stable/user_guide/indexing.html#returning-a-view-versus-a-copy\n",
      "  duplicate_psurname_id.sort_values(by=['surname_postcode'], inplace=True)\n"
     ]
    }
   ],
   "source": [
    "duplicate_psurname = df_patient_clean[df_patient_clean.duplicated(['surname_postcode'])]\n",
    "print(\"we have\", len(duplicate_psurname.index), \"duplicated surname+postcode vs\", len(duplicateDFRow_patient.index), \"duplicate rows\")\n",
    "duplicate_psurname_id = df_patient_clean.loc[df_patient_clean['surname_postcode'].isin(duplicate_pname['surname_postcode'])]\n",
    "\n",
    "duplicate_psurname_id.sort_values(by=['surname_postcode'], inplace=True)"
   ]
  },
  {
   "cell_type": "code",
   "execution_count": 59,
   "metadata": {},
   "outputs": [
    {
     "name": "stdout",
     "output_type": "stream",
     "text": [
      "we have 3187 duplicated name+surname+postcode\n"
     ]
    }
   ],
   "source": []
  },
  {
   "cell_type": "code",
   "execution_count": null,
   "metadata": {},
   "outputs": [],
   "source": []
  },
  {
   "cell_type": "code",
   "execution_count": null,
   "metadata": {},
   "outputs": [],
   "source": []
  },
  {
   "cell_type": "code",
   "execution_count": null,
   "metadata": {},
   "outputs": [],
   "source": [
    "criteria_tested_cap = c1 & c2 & c3\n",
    "criteria_not_tested_cap = c1 & c2 & c4"
   ]
  },
  {
   "cell_type": "code",
   "execution_count": null,
   "metadata": {},
   "outputs": [],
   "source": [
    "df_duploCAP_tested = inner_join_df[criteria_tested_cap]\n",
    "print(df_duploCAP_tested.shape)\n",
    "df_duploCAP_tested.head()"
   ]
  },
  {
   "cell_type": "code",
   "execution_count": null,
   "metadata": {},
   "outputs": [],
   "source": [
    "df_CAP_tested = df_duploCAP_tested.drop_duplicates(subset=['phone_number'], keep='last')\n",
    "print(df_CAP_tested.shape)\n",
    "df_CAP_tested[:5]"
   ]
  },
  {
   "cell_type": "code",
   "execution_count": null,
   "metadata": {},
   "outputs": [],
   "source": [
    "# now deduplicate the records for non-tested patients\n",
    "df_duploCAP_nontested = inner_join_df[criteria_not_tested_cap]\n",
    "print('before deduplication', df_duploCAP_nontested.shape)\n",
    "df_CAP_nontested = df_duploCAP_nontested.drop_duplicates(subset=['phone_number'], keep='last')\n",
    "print('after deduplication', df_CAP_nontested.shape)\n",
    "df_CAP_nontested[:5]"
   ]
  },
  {
   "cell_type": "code",
   "execution_count": null,
   "metadata": {},
   "outputs": [],
   "source": [
    "c7 = ~ df_CAP_nontested['postcode'].isin(df_CAP_tested['postcode']) \n",
    "\n",
    "dfCAP_outer = df_CAP_nontested[c7]\n",
    "df_no_CAP_dup = df_CAP_tested.append(dfCAP_outer)\n",
    "print(df_no_CAP_dup.shape)"
   ]
  },
  {
   "cell_type": "code",
   "execution_count": null,
   "metadata": {},
   "outputs": [],
   "source": []
  },
  {
   "cell_type": "code",
   "execution_count": null,
   "metadata": {},
   "outputs": [],
   "source": []
  },
  {
   "cell_type": "code",
   "execution_count": null,
   "metadata": {},
   "outputs": [],
   "source": [
    "duplicate_pname_missingphone = df_no_CAP_dup.loc[df_no_CAP_dup['phone_number'] == 'missing']\n",
    "print(len(duplicate_pname_missingphone), \"duplicate name+surname+CAP with missing phone number\")"
   ]
  },
  {
   "cell_type": "code",
   "execution_count": null,
   "metadata": {},
   "outputs": [],
   "source": [
    "c1 = outer_join_df.duplicated(['phone_number']) \n",
    "c2 = outer_join_df['postcode'] != \"missing\"\n",
    "\n",
    "c3 = outer_join_df['tested'] == 1\n",
    "c4 = outer_join_df['tested'] == 0\n",
    "#c5 = df_patient_clean.duplicated(['phone_number']) \n",
    "#c6 = df_patient_clean['phone_number'] != \"missing\""
   ]
  },
  {
   "cell_type": "markdown",
   "metadata": {},
   "source": [
    "#### 3.2.1.2 Doublons numéro de téléphone"
   ]
  },
  {
   "cell_type": "code",
   "execution_count": 83,
   "metadata": {},
   "outputs": [
    {
     "name": "stdout",
     "output_type": "stream",
     "text": [
      "we have 1165 duplicated phone numbers vs 0 duplicate rows\n"
     ]
    },
    {
     "name": "stderr",
     "output_type": "stream",
     "text": [
      "<ipython-input-83-539e6f29b3a0>:5: SettingWithCopyWarning: \n",
      "A value is trying to be set on a copy of a slice from a DataFrame\n",
      "\n",
      "See the caveats in the documentation: https://pandas.pydata.org/pandas-docs/stable/user_guide/indexing.html#returning-a-view-versus-a-copy\n",
      "  duplicate_phone_id.sort_values(by=['phone_number'], inplace=True)\n"
     ]
    },
    {
     "data": {
      "text/html": [
       "<div>\n",
       "<style scoped>\n",
       "    .dataframe tbody tr th:only-of-type {\n",
       "        vertical-align: middle;\n",
       "    }\n",
       "\n",
       "    .dataframe tbody tr th {\n",
       "        vertical-align: top;\n",
       "    }\n",
       "\n",
       "    .dataframe thead th {\n",
       "        text-align: right;\n",
       "    }\n",
       "</style>\n",
       "<table border=\"1\" class=\"dataframe\">\n",
       "  <thead>\n",
       "    <tr style=\"text-align: right;\">\n",
       "      <th></th>\n",
       "      <th>patient_id</th>\n",
       "      <th>given_name</th>\n",
       "      <th>surname</th>\n",
       "      <th>street_number</th>\n",
       "      <th>address_1</th>\n",
       "      <th>suburb</th>\n",
       "      <th>postcode</th>\n",
       "      <th>state</th>\n",
       "      <th>date_of_birth</th>\n",
       "      <th>age</th>\n",
       "      <th>phone_number</th>\n",
       "      <th>address_2</th>\n",
       "      <th>birth_year</th>\n",
       "      <th>estimated_age</th>\n",
       "      <th>state_inferred</th>\n",
       "      <th>state_filled</th>\n",
       "      <th>tested</th>\n",
       "      <th>postcode_str</th>\n",
       "      <th>name_postcode</th>\n",
       "      <th>surname_postcode</th>\n",
       "    </tr>\n",
       "  </thead>\n",
       "  <tbody>\n",
       "    <tr>\n",
       "      <th>2634</th>\n",
       "      <td>311830</td>\n",
       "      <td>taaila</td>\n",
       "      <td>missing</td>\n",
       "      <td>16.0</td>\n",
       "      <td>mcnicoll place</td>\n",
       "      <td>orange</td>\n",
       "      <td>6230</td>\n",
       "      <td>vic</td>\n",
       "      <td>19180603.0</td>\n",
       "      <td>102</td>\n",
       "      <td>02 00325977</td>\n",
       "      <td>missing</td>\n",
       "      <td>1918</td>\n",
       "      <td>102</td>\n",
       "      <td>wa</td>\n",
       "      <td>vic</td>\n",
       "      <td>0</td>\n",
       "      <td>6230</td>\n",
       "      <td>taaila 6230</td>\n",
       "      <td>missing 6230</td>\n",
       "    </tr>\n",
       "    <tr>\n",
       "      <th>3872</th>\n",
       "      <td>210155</td>\n",
       "      <td>taalia</td>\n",
       "      <td>missing</td>\n",
       "      <td>19.0</td>\n",
       "      <td>mcnicollyplace</td>\n",
       "      <td>orange</td>\n",
       "      <td>6230</td>\n",
       "      <td>vic</td>\n",
       "      <td>19180603.0</td>\n",
       "      <td>64</td>\n",
       "      <td>02 00325977</td>\n",
       "      <td>missing</td>\n",
       "      <td>1918</td>\n",
       "      <td>102</td>\n",
       "      <td>wa</td>\n",
       "      <td>vic</td>\n",
       "      <td>1</td>\n",
       "      <td>6230</td>\n",
       "      <td>taalia 6230</td>\n",
       "      <td>missing 6230</td>\n",
       "    </tr>\n",
       "    <tr>\n",
       "      <th>16605</th>\n",
       "      <td>525466</td>\n",
       "      <td>taalia</td>\n",
       "      <td>missing</td>\n",
       "      <td>19.0</td>\n",
       "      <td>mcnicoll place</td>\n",
       "      <td>orange</td>\n",
       "      <td>6230</td>\n",
       "      <td>vic</td>\n",
       "      <td>19180603.0</td>\n",
       "      <td>26</td>\n",
       "      <td>02 00325977</td>\n",
       "      <td>missing</td>\n",
       "      <td>1918</td>\n",
       "      <td>102</td>\n",
       "      <td>wa</td>\n",
       "      <td>vic</td>\n",
       "      <td>1</td>\n",
       "      <td>6230</td>\n",
       "      <td>taalia 6230</td>\n",
       "      <td>missing 6230</td>\n",
       "    </tr>\n",
       "    <tr>\n",
       "      <th>248</th>\n",
       "      <td>870746</td>\n",
       "      <td>tyler</td>\n",
       "      <td>able</td>\n",
       "      <td>15.0</td>\n",
       "      <td>marcus clarke street</td>\n",
       "      <td>wannissa</td>\n",
       "      <td>3333</td>\n",
       "      <td>nsw</td>\n",
       "      <td>19830504.0</td>\n",
       "      <td>37</td>\n",
       "      <td>02 00493853</td>\n",
       "      <td>missing</td>\n",
       "      <td>1983</td>\n",
       "      <td>37</td>\n",
       "      <td>vic</td>\n",
       "      <td>nsw</td>\n",
       "      <td>0</td>\n",
       "      <td>3333</td>\n",
       "      <td>tyler 3333</td>\n",
       "      <td>able 3333</td>\n",
       "    </tr>\n",
       "    <tr>\n",
       "      <th>4986</th>\n",
       "      <td>268616</td>\n",
       "      <td>tyler</td>\n",
       "      <td>able</td>\n",
       "      <td>154.0</td>\n",
       "      <td>marcus clarke street</td>\n",
       "      <td>wanniassa</td>\n",
       "      <td>3333</td>\n",
       "      <td>nsw</td>\n",
       "      <td>19830504.0</td>\n",
       "      <td>37</td>\n",
       "      <td>02 00493853</td>\n",
       "      <td>missing</td>\n",
       "      <td>1983</td>\n",
       "      <td>37</td>\n",
       "      <td>vic</td>\n",
       "      <td>nsw</td>\n",
       "      <td>0</td>\n",
       "      <td>3333</td>\n",
       "      <td>tyler 3333</td>\n",
       "      <td>able 3333</td>\n",
       "    </tr>\n",
       "    <tr>\n",
       "      <th>2706</th>\n",
       "      <td>293510</td>\n",
       "      <td>tyler</td>\n",
       "      <td>able</td>\n",
       "      <td>154.0</td>\n",
       "      <td>marcus clarke street</td>\n",
       "      <td>wanniasa</td>\n",
       "      <td>3333</td>\n",
       "      <td>nsw</td>\n",
       "      <td>19803504.0</td>\n",
       "      <td>40</td>\n",
       "      <td>02 00493853</td>\n",
       "      <td>missing</td>\n",
       "      <td>1980</td>\n",
       "      <td>40</td>\n",
       "      <td>vic</td>\n",
       "      <td>nsw</td>\n",
       "      <td>0</td>\n",
       "      <td>3333</td>\n",
       "      <td>tyler 3333</td>\n",
       "      <td>able 3333</td>\n",
       "    </tr>\n",
       "  </tbody>\n",
       "</table>\n",
       "</div>"
      ],
      "text/plain": [
       "       patient_id given_name  surname  street_number             address_1  \\\n",
       "2634       311830     taaila  missing           16.0        mcnicoll place   \n",
       "3872       210155     taalia  missing           19.0        mcnicollyplace   \n",
       "16605      525466     taalia  missing           19.0        mcnicoll place   \n",
       "248        870746      tyler     able           15.0  marcus clarke street   \n",
       "4986       268616      tyler     able          154.0  marcus clarke street   \n",
       "2706       293510      tyler     able          154.0  marcus clarke street   \n",
       "\n",
       "          suburb  postcode state  date_of_birth  age phone_number address_2  \\\n",
       "2634      orange      6230   vic     19180603.0  102  02 00325977   missing   \n",
       "3872      orange      6230   vic     19180603.0   64  02 00325977   missing   \n",
       "16605     orange      6230   vic     19180603.0   26  02 00325977   missing   \n",
       "248     wannissa      3333   nsw     19830504.0   37  02 00493853   missing   \n",
       "4986   wanniassa      3333   nsw     19830504.0   37  02 00493853   missing   \n",
       "2706    wanniasa      3333   nsw     19803504.0   40  02 00493853   missing   \n",
       "\n",
       "       birth_year  estimated_age state_inferred state_filled  tested  \\\n",
       "2634         1918            102             wa          vic       0   \n",
       "3872         1918            102             wa          vic       1   \n",
       "16605        1918            102             wa          vic       1   \n",
       "248          1983             37            vic          nsw       0   \n",
       "4986         1983             37            vic          nsw       0   \n",
       "2706         1980             40            vic          nsw       0   \n",
       "\n",
       "      postcode_str name_postcode surname_postcode  \n",
       "2634          6230   taaila 6230     missing 6230  \n",
       "3872          6230   taalia 6230     missing 6230  \n",
       "16605         6230   taalia 6230     missing 6230  \n",
       "248           3333    tyler 3333        able 3333  \n",
       "4986          3333    tyler 3333        able 3333  \n",
       "2706          3333    tyler 3333        able 3333  "
      ]
     },
     "execution_count": 83,
     "metadata": {},
     "output_type": "execute_result"
    }
   ],
   "source": [
    "duplicate_ph_n = df_patient_clean[df_patient_clean.duplicated(['phone_number']) & (df_patient_clean['phone_number'] != \"missing\")]\n",
    "print(\"we have\", len(duplicate_ph_n.index), \"duplicated phone numbers vs\", len(duplicateDFRow_patient.index), \"duplicate rows\")\n",
    "duplicate_phone_id = df_patient_clean.loc[df_patient_clean['phone_number'].isin(duplicate_ph_n['phone_number'])]\n",
    "\n",
    "duplicate_phone_id.sort_values(by=['phone_number'], inplace=True)\n",
    "\n",
    "duplicate_phone_id[:6]"
   ]
  },
  {
   "cell_type": "code",
   "execution_count": 96,
   "metadata": {},
   "outputs": [
    {
     "ename": "ValueError",
     "evalue": "keep must be either \"first\", \"last\" or False",
     "output_type": "error",
     "traceback": [
      "\u001b[0;31m---------------------------------------------------------------------------\u001b[0m",
      "\u001b[0;31mValueError\u001b[0m                                Traceback (most recent call last)",
      "\u001b[0;32m<ipython-input-96-bc8df27e8c96>\u001b[0m in \u001b[0;36m<module>\u001b[0;34m\u001b[0m\n\u001b[1;32m      3\u001b[0m \u001b[0mdf_missingphones\u001b[0m \u001b[0;34m=\u001b[0m \u001b[0mdf_patient_clean\u001b[0m\u001b[0;34m[\u001b[0m\u001b[0;34m'phone_number'\u001b[0m\u001b[0;34m]\u001b[0m \u001b[0;34m==\u001b[0m \u001b[0;34m\"missing\"\u001b[0m\u001b[0;34m\u001b[0m\u001b[0;34m\u001b[0m\u001b[0m\n\u001b[1;32m      4\u001b[0m \u001b[0;31m#c5 = df_patient_clean['estimated_age'] < 120\u001b[0m\u001b[0;34m\u001b[0m\u001b[0;34m\u001b[0m\u001b[0;34m\u001b[0m\u001b[0m\n\u001b[0;32m----> 5\u001b[0;31m \u001b[0mduplicate_year_missingphone\u001b[0m \u001b[0;34m=\u001b[0m \u001b[0mdf_missingphones\u001b[0m\u001b[0;34m[\u001b[0m\u001b[0;34m(\u001b[0m\u001b[0mdf_missingphones\u001b[0m\u001b[0;34m.\u001b[0m\u001b[0mduplicated\u001b[0m\u001b[0;34m(\u001b[0m\u001b[0;34m[\u001b[0m\u001b[0;34m'birth_year'\u001b[0m\u001b[0;34m]\u001b[0m\u001b[0;34m)\u001b[0m\u001b[0;34m)\u001b[0m \u001b[0;34m&\u001b[0m \u001b[0;34m(\u001b[0m\u001b[0mdf_missingphones\u001b[0m\u001b[0;34m[\u001b[0m\u001b[0;34m'birth_year'\u001b[0m\u001b[0;34m]\u001b[0m \u001b[0;34m>\u001b[0m \u001b[0;36m1900\u001b[0m\u001b[0;34m)\u001b[0m\u001b[0;34m]\u001b[0m\u001b[0;34m\u001b[0m\u001b[0;34m\u001b[0m\u001b[0m\n\u001b[0m\u001b[1;32m      6\u001b[0m \u001b[0;31m#duplicate_year_missingphone = duplicate_year_missingphone[df_patient_clean['estimated_age'] < 120]\u001b[0m\u001b[0;34m\u001b[0m\u001b[0;34m\u001b[0m\u001b[0;34m\u001b[0m\u001b[0m\n\u001b[1;32m      7\u001b[0m \u001b[0mprint\u001b[0m\u001b[0;34m(\u001b[0m\u001b[0;34m\"we have\"\u001b[0m\u001b[0;34m,\u001b[0m \u001b[0mlen\u001b[0m\u001b[0;34m(\u001b[0m\u001b[0mduplicate_year_missingphone\u001b[0m\u001b[0;34m.\u001b[0m\u001b[0mindex\u001b[0m\u001b[0;34m)\u001b[0m\u001b[0;34m,\u001b[0m \u001b[0;34m\"duplicated birth years with missing phone numbers vs\"\u001b[0m\u001b[0;34m,\u001b[0m \u001b[0mlen\u001b[0m\u001b[0;34m(\u001b[0m\u001b[0mduplicateDFRow_patient\u001b[0m\u001b[0;34m.\u001b[0m\u001b[0mindex\u001b[0m\u001b[0;34m)\u001b[0m\u001b[0;34m,\u001b[0m \u001b[0;34m\"duplicate rows\"\u001b[0m\u001b[0;34m)\u001b[0m\u001b[0;34m\u001b[0m\u001b[0;34m\u001b[0m\u001b[0m\n",
      "\u001b[0;32m/media/marco/DATA1/media/marco/DATA1/lib/python3.8/site-packages/pandas/core/series.py\u001b[0m in \u001b[0;36mduplicated\u001b[0;34m(self, keep)\u001b[0m\n\u001b[1;32m   1970\u001b[0m         \u001b[0mdtype\u001b[0m\u001b[0;34m:\u001b[0m \u001b[0mbool\u001b[0m\u001b[0;34m\u001b[0m\u001b[0;34m\u001b[0m\u001b[0m\n\u001b[1;32m   1971\u001b[0m         \"\"\"\n\u001b[0;32m-> 1972\u001b[0;31m         \u001b[0;32mreturn\u001b[0m \u001b[0msuper\u001b[0m\u001b[0;34m(\u001b[0m\u001b[0;34m)\u001b[0m\u001b[0;34m.\u001b[0m\u001b[0mduplicated\u001b[0m\u001b[0;34m(\u001b[0m\u001b[0mkeep\u001b[0m\u001b[0;34m=\u001b[0m\u001b[0mkeep\u001b[0m\u001b[0;34m)\u001b[0m\u001b[0;34m\u001b[0m\u001b[0;34m\u001b[0m\u001b[0m\n\u001b[0m\u001b[1;32m   1973\u001b[0m \u001b[0;34m\u001b[0m\u001b[0m\n\u001b[1;32m   1974\u001b[0m     \u001b[0;32mdef\u001b[0m \u001b[0midxmin\u001b[0m\u001b[0;34m(\u001b[0m\u001b[0mself\u001b[0m\u001b[0;34m,\u001b[0m \u001b[0maxis\u001b[0m\u001b[0;34m=\u001b[0m\u001b[0;36m0\u001b[0m\u001b[0;34m,\u001b[0m \u001b[0mskipna\u001b[0m\u001b[0;34m=\u001b[0m\u001b[0;32mTrue\u001b[0m\u001b[0;34m,\u001b[0m \u001b[0;34m*\u001b[0m\u001b[0margs\u001b[0m\u001b[0;34m,\u001b[0m \u001b[0;34m**\u001b[0m\u001b[0mkwargs\u001b[0m\u001b[0;34m)\u001b[0m\u001b[0;34m:\u001b[0m\u001b[0;34m\u001b[0m\u001b[0;34m\u001b[0m\u001b[0m\n",
      "\u001b[0;32m/media/marco/DATA1/media/marco/DATA1/lib/python3.8/site-packages/pandas/core/base.py\u001b[0m in \u001b[0;36mduplicated\u001b[0;34m(self, keep)\u001b[0m\n\u001b[1;32m   1489\u001b[0m         \u001b[0;32melse\u001b[0m\u001b[0;34m:\u001b[0m\u001b[0;34m\u001b[0m\u001b[0;34m\u001b[0m\u001b[0m\n\u001b[1;32m   1490\u001b[0m             return self._constructor(\n\u001b[0;32m-> 1491\u001b[0;31m                 \u001b[0mduplicated\u001b[0m\u001b[0;34m(\u001b[0m\u001b[0mself\u001b[0m\u001b[0;34m,\u001b[0m \u001b[0mkeep\u001b[0m\u001b[0;34m=\u001b[0m\u001b[0mkeep\u001b[0m\u001b[0;34m)\u001b[0m\u001b[0;34m,\u001b[0m \u001b[0mindex\u001b[0m\u001b[0;34m=\u001b[0m\u001b[0mself\u001b[0m\u001b[0;34m.\u001b[0m\u001b[0mindex\u001b[0m\u001b[0;34m\u001b[0m\u001b[0;34m\u001b[0m\u001b[0m\n\u001b[0m\u001b[1;32m   1492\u001b[0m             ).__finalize__(self)\n\u001b[1;32m   1493\u001b[0m \u001b[0;34m\u001b[0m\u001b[0m\n",
      "\u001b[0;32m/media/marco/DATA1/media/marco/DATA1/lib/python3.8/site-packages/pandas/core/algorithms.py\u001b[0m in \u001b[0;36mduplicated\u001b[0;34m(values, keep)\u001b[0m\n\u001b[1;32m    801\u001b[0m     \u001b[0mndtype\u001b[0m \u001b[0;34m=\u001b[0m \u001b[0mvalues\u001b[0m\u001b[0;34m.\u001b[0m\u001b[0mdtype\u001b[0m\u001b[0;34m.\u001b[0m\u001b[0mname\u001b[0m\u001b[0;34m\u001b[0m\u001b[0;34m\u001b[0m\u001b[0m\n\u001b[1;32m    802\u001b[0m     \u001b[0mf\u001b[0m \u001b[0;34m=\u001b[0m \u001b[0mgetattr\u001b[0m\u001b[0;34m(\u001b[0m\u001b[0mhtable\u001b[0m\u001b[0;34m,\u001b[0m \u001b[0;34mf\"duplicated_{ndtype}\"\u001b[0m\u001b[0;34m)\u001b[0m\u001b[0;34m\u001b[0m\u001b[0;34m\u001b[0m\u001b[0m\n\u001b[0;32m--> 803\u001b[0;31m     \u001b[0;32mreturn\u001b[0m \u001b[0mf\u001b[0m\u001b[0;34m(\u001b[0m\u001b[0mvalues\u001b[0m\u001b[0;34m,\u001b[0m \u001b[0mkeep\u001b[0m\u001b[0;34m=\u001b[0m\u001b[0mkeep\u001b[0m\u001b[0;34m)\u001b[0m\u001b[0;34m\u001b[0m\u001b[0;34m\u001b[0m\u001b[0m\n\u001b[0m\u001b[1;32m    804\u001b[0m \u001b[0;34m\u001b[0m\u001b[0m\n\u001b[1;32m    805\u001b[0m \u001b[0;34m\u001b[0m\u001b[0m\n",
      "\u001b[0;32mpandas/_libs/hashtable_func_helper.pxi\u001b[0m in \u001b[0;36mpandas._libs.hashtable.duplicated_uint64\u001b[0;34m()\u001b[0m\n",
      "\u001b[0;31mValueError\u001b[0m: keep must be either \"first\", \"last\" or False"
     ]
    }
   ],
   "source": [
    "# df_carbon = df_carbon[df_carbon['carbon-footprint_100g'] > 1]\n",
    "#c3 = df_patient_clean.duplicated(['birth_year'])\n",
    "df_missingphones = df_patient_clean['phone_number'] == \"missing\"\n",
    "#c5 = df_patient_clean['estimated_age'] < 120\n",
    "duplicate_year_missingphone = df_missingphones[(df_missingphones.duplicated(['birth_year'])) & (df_missingphones['birth_year'] > 1900)]\n",
    "#duplicate_year_missingphone = duplicate_year_missingphone[df_patient_clean['estimated_age'] < 120]\n",
    "print(\"we have\", len(duplicate_year_missingphone.index), \"duplicated birth years with missing phone numbers vs\", len(duplicateDFRow_patient.index), \"duplicate rows\")\n",
    "duplicate_year_id = df_patient_clean.loc[df_patient_clean['birth_year'].isin(duplicate_year_missingphone['birth_year'])]\n",
    "\n",
    "duplicate_year_id.sort_values(by=['birth_year'], inplace=True)\n",
    "\n",
    "duplicate_year_id[:6]"
   ]
  },
  {
   "cell_type": "code",
   "execution_count": null,
   "metadata": {},
   "outputs": [],
   "source": []
  },
  {
   "cell_type": "code",
   "execution_count": null,
   "metadata": {},
   "outputs": [],
   "source": [
    "criteria_tested_ph = c5 & c6 & c3\n",
    "criteria_not_tested_ph = c5 & c6 & c4"
   ]
  },
  {
   "cell_type": "code",
   "execution_count": null,
   "metadata": {},
   "outputs": [],
   "source": [
    "df1 = df_patient_clean[criteria_tested_ph]\n",
    "print(df1.shape)\n",
    "df1.head()"
   ]
  },
  {
   "cell_type": "code",
   "execution_count": null,
   "metadata": {},
   "outputs": [],
   "source": [
    "df1nodup = df1.drop_duplicates(subset=['phone_number'], keep='last')"
   ]
  },
  {
   "cell_type": "code",
   "execution_count": null,
   "metadata": {},
   "outputs": [],
   "source": [
    "df2 = df_patient_clean[criteria_not_tested_ph]\n",
    "df2nodup = df2.drop_duplicates(subset=['phone_number'], keep='last')\n",
    "print(df1nodup.shape, df2nodup.shape)"
   ]
  },
  {
   "cell_type": "code",
   "execution_count": null,
   "metadata": {},
   "outputs": [],
   "source": [
    "#df_no_phone_dup = pd.merge(df1nodup, df2nodup, on='phone_number', how='left')\n",
    "#print(df_no_phone_dup.shape)"
   ]
  },
  {
   "cell_type": "code",
   "execution_count": null,
   "metadata": {},
   "outputs": [],
   "source": [
    "c7 = ~ df2nodup['phone_number'].isin(df1nodup['phone_number']) \n",
    "df2_outer = df2nodup[c7]\n",
    "df_no_phone_dup = df1nodup.append(df2_outer)\n",
    "print(df_no_phone_dup.shape)"
   ]
  },
  {
   "cell_type": "code",
   "execution_count": null,
   "metadata": {},
   "outputs": [],
   "source": []
  },
  {
   "cell_type": "code",
   "execution_count": null,
   "metadata": {},
   "outputs": [],
   "source": []
  },
  {
   "cell_type": "code",
   "execution_count": null,
   "metadata": {},
   "outputs": [],
   "source": [
    "df_no_phone_dup.head()"
   ]
  },
  {
   "cell_type": "markdown",
   "metadata": {},
   "source": [
    "### 3.2.2 Fonction d'élimination des doublons"
   ]
  },
  {
   "cell_type": "markdown",
   "metadata": {},
   "source": [
    "- on va retenir d'abord les valeurs si le patient-ID est parmi les IDs testés\n",
    "- en suite on va eliminer les autres doublons\n",
    "- la procedure est effectuée pour deux variables: numéro de telephone, puis nom+prenom+CAP"
   ]
  },
  {
   "cell_type": "markdown",
   "metadata": {},
   "source": [
    "![deduplication](deduplication_procedure.png)"
   ]
  },
  {
   "cell_type": "code",
   "execution_count": null,
   "metadata": {},
   "outputs": [],
   "source": [
    "# https://recordlinkage.readthedocs.io/en/latest/notebooks/data_deduplication.html\n",
    "dfA = df_patient_filled\n",
    "\n",
    "\n",
    "indexer = recordlinkage.Index()\n",
    "indexer.full()\n",
    "candidate_links = indexer.index(dfA)"
   ]
  },
  {
   "cell_type": "code",
   "execution_count": null,
   "metadata": {},
   "outputs": [],
   "source": [
    "print (len(dfA), len(candidate_links))\n",
    "# (1000*1000-1000)/2 = 499500"
   ]
  },
  {
   "cell_type": "code",
   "execution_count": null,
   "metadata": {},
   "outputs": [],
   "source": [
    "indexer = recordlinkage.Index()\n",
    "indexer.block('given_name')\n",
    "candidate_links = indexer.index(dfA)\n",
    "\n",
    "print (len(candidate_links))"
   ]
  },
  {
   "cell_type": "code",
   "execution_count": null,
   "metadata": {},
   "outputs": [],
   "source": [
    "# This cell can take some time to compute.\n",
    "compare_cl = recordlinkage.Compare()\n",
    "\n",
    "compare_cl.string('given_name', 'given_name', method='jarowinkler', threshold=0.85, label='given_name')\n",
    "compare_cl.string('surname', 'surname', method='jarowinkler', threshold=0.85, label='surname')\n",
    "compare_cl.exact('birth_year', 'birth_year', label='birth_year')\n",
    "compare_cl.exact('suburb', 'suburb', label='suburb')\n",
    "compare_cl.exact('state', 'state', label='state')\n",
    "compare_cl.string('address_1', 'address_1', threshold=0.85, label='address_1')\n",
    "\n",
    "features = compare_cl.compute(candidate_links, dfA)"
   ]
  },
  {
   "cell_type": "code",
   "execution_count": null,
   "metadata": {},
   "outputs": [],
   "source": [
    "features.head(10)"
   ]
  },
  {
   "cell_type": "code",
   "execution_count": null,
   "metadata": {},
   "outputs": [],
   "source": [
    "features.describe()\n"
   ]
  },
  {
   "cell_type": "code",
   "execution_count": null,
   "metadata": {},
   "outputs": [],
   "source": [
    "# Sum the comparison results.\n",
    "features.sum(axis=1).value_counts().sort_index(ascending=False)\n"
   ]
  },
  {
   "cell_type": "code",
   "execution_count": null,
   "metadata": {},
   "outputs": [],
   "source": [
    "# Indexation step\n",
    "indexer = recordlinkage.Index()\n",
    "indexer.block(left_on='given_name')\n",
    "candidate_links = indexer.index(dfA)\n",
    "\n",
    "# Comparison step\n",
    "compare_cl = recordlinkage.Compare()\n",
    "\n",
    "compare_cl.string('given_name', 'given_name', method='jarowinkler', threshold=0.85, label='given_name')\n",
    "compare_cl.string('surname', 'surname', method='jarowinkler', threshold=0.85, label='surname')\n",
    "compare_cl.exact('birth_year', 'birth_year', label='birth_year')\n",
    "compare_cl.exact('phone_number', 'phone_number', label='phone_number')\n",
    "compare_cl.exact('postcode', 'postcode', label='state')\n",
    "#compare_cl.string('address_1', 'address_1', threshold=0.9, label='address_1')\n",
    "\n",
    "features = compare_cl.compute(candidate_links, dfA)"
   ]
  },
  {
   "cell_type": "code",
   "execution_count": null,
   "metadata": {},
   "outputs": [],
   "source": [
    "# Classification step\n",
    "matches = features[features.sum(axis=1) > 3] # at least two matched features\n",
    "matches = matches.reset_index()\n",
    "print(len(matches))"
   ]
  },
  {
   "cell_type": "code",
   "execution_count": null,
   "metadata": {},
   "outputs": [],
   "source": [
    "matches.dtypes"
   ]
  },
  {
   "cell_type": "code",
   "execution_count": null,
   "metadata": {},
   "outputs": [],
   "source": [
    "matches.head()"
   ]
  },
  {
   "cell_type": "code",
   "execution_count": null,
   "metadata": {},
   "outputs": [],
   "source": []
  }
 ],
 "metadata": {
  "kernelspec": {
   "display_name": "Python 3",
   "language": "python",
   "name": "python3"
  },
  "language_info": {
   "codemirror_mode": {
    "name": "ipython",
    "version": 3
   },
   "file_extension": ".py",
   "mimetype": "text/x-python",
   "name": "python",
   "nbconvert_exporter": "python",
   "pygments_lexer": "ipython3",
   "version": "3.8.3"
  }
 },
 "nbformat": 4,
 "nbformat_minor": 4
}
